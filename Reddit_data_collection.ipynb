{
 "cells": [
  {
   "cell_type": "code",
   "execution_count": 9,
   "metadata": {},
   "outputs": [],
   "source": [
    "import praw\n",
    "import pandas as pd\n",
    "\n",
    "# Reddit API credentials (replace with your own)\n",
    "client_id = 'N0A5nAoIS4hwZQGMtdjoGg'\n",
    "client_secret = 'fDMgBWkgbMq5L5vuLs_Wbh16Q2LtJg'\n",
    "user_agent = 'ICA_Google_Script'"
   ]
  },
  {
   "cell_type": "code",
   "execution_count": 15,
   "metadata": {},
   "outputs": [],
   "source": [
    "def authenticate_reddit_api():\n",
    "    reddit = praw.Reddit(client_id=client_id, client_secret=client_secret, user_agent=user_agent)\n",
    "    return reddit\n",
    "\n",
    "def collect_posts(api, services, post_count=10):\n",
    "    results = {'Service': [], 'Text': [], 'Subreddit': [], 'Created At': []}\n",
    "\n",
    "    for service, variations in services.items():\n",
    "        for variation in variations:\n",
    "            # Search all subreddits\n",
    "            posts = api.subreddit('all').search(variation, sort='new', time_filter='year', limit=post_count)\n",
    "\n",
    "            for post in posts:\n",
    "                    results['Service'].append(service)\n",
    "                    results['Text'].append(post.title)\n",
    "                    results['Subreddit'].append(post.subreddit.display_name)\n",
    "                    results['Created At'].append(post.created_utc)\n",
    "\n",
    "    df = pd.DataFrame(results)\n",
    "    df.to_csv('all_posts.csv', index=False)\n"
   ]
  },
  {
   "cell_type": "code",
   "execution_count": 18,
   "metadata": {},
   "outputs": [],
   "source": [
    "reddit = authenticate_reddit_api()\n",
    "\n",
    "# Add more services and keywords if needed\n",
    "services = {\n",
    "    'CommunicationOffice': ['Gmail','Google Docs', 'Google Workspace'],\n",
    "    'VideoTravel': ['Youtube', 'Google Maps'],\n",
    "    'Ads': ['Google Analytics', 'AdSense', 'Google DoubleClick'],\n",
    "    'SoftwareHhardware': ['Android', 'Google Assistant', 'Pixel Phone'],\n",
    "    'GoogleSearch': ['Google Search', 'Google Search Engine', 'Google Scholar'],\n",
    "}\n",
    "\n",
    "# Number of posts to collect (e.g., 10)\n",
    "post_count = 5000\n",
    "collect_posts(reddit, services, post_count)\n"
   ]
  }
 ],
 "metadata": {
  "kernelspec": {
   "display_name": "base",
   "language": "python",
   "name": "python3"
  },
  "language_info": {
   "codemirror_mode": {
    "name": "ipython",
    "version": 3
   },
   "file_extension": ".py",
   "mimetype": "text/x-python",
   "name": "python",
   "nbconvert_exporter": "python",
   "pygments_lexer": "ipython3",
   "version": "3.11.4"
  }
 },
 "nbformat": 4,
 "nbformat_minor": 2
}
